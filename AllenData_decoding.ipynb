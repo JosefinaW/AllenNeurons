{
 "cells": [
  {
   "cell_type": "markdown",
   "id": "f72fe479",
   "metadata": {
    "execution": {},
    "id": "kErhFWLMdlMn"
   },
   "source": [
    "# Loading the data"
   ]
  },
  {
   "cell_type": "code",
   "execution_count": 1,
   "id": "726a746e",
   "metadata": {
    "cellView": "form",
    "colab": {
     "base_uri": "https://localhost:8080/"
    },
    "execution": {},
    "id": "ZVphVsUJdlMo",
    "outputId": "edc88892-7a81-4adc-8b8e-f007e94ee7d7"
   },
   "outputs": [
    {
     "name": "stdout",
     "output_type": "stream",
     "text": [
      "\u001b[33mWARNING: Error parsing dependencies of pyodbc: Invalid version: '4.0.0-unsupported'\u001b[0m\u001b[33m\n",
      "\u001b[0m\u001b[33mWARNING: Error parsing dependencies of pyzmq: Invalid version: 'cpython'\u001b[0m\u001b[33m\n",
      "\u001b[0m\u001b[33mWARNING: Error parsing dependencies of pyodbc: Invalid version: '4.0.0-unsupported'\u001b[0m\u001b[33m\n",
      "\u001b[0m\u001b[33mWARNING: Error parsing dependencies of pyzmq: Invalid version: 'cpython'\u001b[0m\u001b[33m\n",
      "\u001b[0mRequirement already satisfied: pyarrow in /opt/anaconda3/lib/python3.8/site-packages (16.1.0)\n",
      "Requirement already satisfied: numpy>=1.16.6 in /opt/anaconda3/lib/python3.8/site-packages (from pyarrow) (1.22.4)\n",
      "\u001b[33mWARNING: Error parsing dependencies of pyodbc: Invalid version: '4.0.0-unsupported'\u001b[0m\u001b[33m\n",
      "\u001b[0m\u001b[33mWARNING: Error parsing dependencies of pyzmq: Invalid version: 'cpython'\u001b[0m\u001b[33m\n",
      "\u001b[0m"
     ]
    }
   ],
   "source": [
    "# @title Install dependencies\n",
    "\n",
    "!pip install pandas --quiet\n",
    "!pip install seaborn --quiet\n",
    "!pip install  pyarrow # may be needed to read data file"
   ]
  },
  {
   "cell_type": "code",
   "execution_count": 2,
   "id": "f5b9eb8a",
   "metadata": {
    "execution": {},
    "id": "arDpXV4udlMo"
   },
   "outputs": [],
   "source": [
    "# Imports\n",
    "import numpy as np\n",
    "import pandas as pd\n",
    "import matplotlib.pyplot as plt\n",
    "import seaborn as sns\n",
    "sns.set_context('notebook', font_scale=1.5, rc={'lines.markeredgewidth': 2})"
   ]
  },
  {
   "cell_type": "markdown",
   "id": "3cbbdceb",
   "metadata": {
    "execution": {},
    "id": "kGjr9frfdlMp"
   },
   "source": [
    "## For this example, we have pre-computed event triggered responses and saved them to figshare.\n",
    "#### To access the full dataset, see `Allen_neuromatch_example_2.ipynb`, or go to the links at the bottom of this notebook\n",
    "###This cell will download the responses."
   ]
  },
  {
   "cell_type": "code",
   "execution_count": 3,
   "id": "0835815f",
   "metadata": {
    "execution": {},
    "id": "2ixF9-hmdlMq"
   },
   "outputs": [],
   "source": [
    "# @title Data retrieval\n",
    "import os, requests\n",
    "\n",
    "fname = \"allen_visual_behavior_2p_change_detection_familiar_novel_image_sets.parquet\"\n",
    "url = \"https://ndownloader.figshare.com/files/28470255\"\n",
    "\n",
    "if not os.path.isfile(fname):\n",
    "  try:\n",
    "    r = requests.get(url)\n",
    "  except requests.ConnectionError:\n",
    "    print(\"!!! Failed to download data !!!\")\n",
    "  else:\n",
    "    if r.status_code != requests.codes.ok:\n",
    "      print(\"!!! Failed to download data !!!\")\n",
    "    else:\n",
    "      with open(fname, \"wb\") as fid:\n",
    "        fid.write(r.content)"
   ]
  },
  {
   "cell_type": "markdown",
   "id": "fd693727",
   "metadata": {
    "execution": {},
    "id": "gqgmeSQCdlMq"
   },
   "source": [
    "### Then we open it using the pandas `read_parquet` method\n"
   ]
  },
  {
   "cell_type": "markdown",
   "id": "3d0cb99d",
   "metadata": {
    "execution": {},
    "id": "_ZtUKFBMdlMq"
   },
   "source": [
    "(parquet is just another file format)"
   ]
  },
  {
   "cell_type": "code",
   "execution_count": 4,
   "id": "01050efd",
   "metadata": {
    "execution": {},
    "id": "fKQ1V7JAdlMq"
   },
   "outputs": [],
   "source": [
    "filename = \"allen_visual_behavior_2p_change_detection_familiar_novel_image_sets.parquet\"\n",
    "data = pd.read_parquet(filename)"
   ]
  },
  {
   "cell_type": "markdown",
   "id": "986d9122",
   "metadata": {},
   "source": [
    "# DATA_ PROCESSING: Start here after loading data"
   ]
  },
  {
   "cell_type": "code",
   "execution_count": 5,
   "id": "2d81b10b",
   "metadata": {},
   "outputs": [],
   "source": [
    "#THIS IS WHERE THE FUN STARTS\n",
    "# Define a function to map combinations to numbers 1-4\n",
    "def map_conditions(row):\n",
    "    if row['exposure_level'] == \"familiar\" and row['is_change'] == True:\n",
    "        return 1\n",
    "    elif row['exposure_level'] == \"familiar\" and row['is_change'] == False:\n",
    "        return 2\n",
    "    elif row['exposure_level'] == \"novel\" and row['is_change'] == True:\n",
    "        return 3\n",
    "    elif row['exposure_level'] == \"novel\" and row['is_change'] == False:\n",
    "        return 4\n",
    "\n",
    "\n",
    "# Apply the function to create the new column\n",
    "#filtered_df['condition'] = filtered_df.apply(map_conditions, axis=1)\n",
    "\n",
    "#print(filtered_df.shape)"
   ]
  },
  {
   "cell_type": "code",
   "execution_count": 6,
   "id": "f2e2a23c",
   "metadata": {},
   "outputs": [],
   "source": [
    "data['condition'] = data.apply(map_conditions, axis=1)"
   ]
  },
  {
   "cell_type": "code",
   "execution_count": 7,
   "id": "6c6a0ee7",
   "metadata": {},
   "outputs": [],
   "source": [
    "def restrict_neurons_with_all_conditions(df):\n",
    "    # Group by neuron and find unique conditions for each neuron\n",
    "    neuron_conditions = df.groupby('cell_specimen_id')['condition'].unique()\n",
    "    # filtering only neurons that have trials in all 4 conditions\n",
    "    neurons_with_all_conditions = neuron_conditions[\n",
    "        neuron_conditions.apply(lambda x: {1, 2, 3, 4}.issubset(x))\n",
    "    ].index\n",
    "    # Filter the data for those neurons\n",
    "    filtered_d = df[df['cell_specimen_id'].isin(neurons_with_all_conditions)]\n",
    "    return filtered_d\n",
    "filtered_data = restrict_neurons_with_all_conditions(data)"
   ]
  },
  {
   "cell_type": "code",
   "execution_count": 8,
   "id": "8a3652ff",
   "metadata": {},
   "outputs": [
    {
     "name": "stdout",
     "output_type": "stream",
     "text": [
      "Verification result: True\n"
     ]
    }
   ],
   "source": [
    "def verify_filtered_data(df):\n",
    "    condition_counts = df.groupby('cell_specimen_id')['condition'].nunique()\n",
    "    return (condition_counts == 4).all()\n",
    "print(f\"Verification result: {verify_filtered_data(filtered_data)}\")"
   ]
  },
  {
   "cell_type": "code",
   "execution_count": 9,
   "id": "1bd7155c",
   "metadata": {},
   "outputs": [
    {
     "name": "stdout",
     "output_type": "stream",
     "text": [
      "     cell_specimen_id  condition  trial_count\n",
      "0          1086489847          1          204\n",
      "1          1086489847          2          190\n",
      "2          1086489847          3          218\n",
      "3          1086489847          4          217\n",
      "4          1086489860          1          204\n",
      "..                ...        ...          ...\n",
      "383        1086567017          4          184\n",
      "384        1086567589          1          512\n",
      "385        1086567589          2          328\n",
      "386        1086567589          3          352\n",
      "387        1086567589          4          184\n",
      "\n",
      "[388 rows x 3 columns]\n"
     ]
    }
   ],
   "source": [
    "#how many trials of each type per neuron? -> calculate length of each condition for each neuron - creating the trial counts variable\n",
    "# Group by cell_id and 'condition', then count the number of occurrences\n",
    "trial_counts = filtered_data.groupby(['cell_specimen_id', 'condition']).size().reset_index(name='trial_count')\n",
    "\n",
    "print(trial_counts)\n"
   ]
  },
  {
   "cell_type": "code",
   "execution_count": 10,
   "id": "5175acfb",
   "metadata": {},
   "outputs": [
    {
     "name": "stdout",
     "output_type": "stream",
     "text": [
      "   condition  trial_count\n",
      "0          1          122\n",
      "1          2          150\n",
      "2          3           82\n",
      "3          4          146\n"
     ]
    }
   ],
   "source": [
    "# Group by 'condition' and find the minimum 'trial_count' for each condition\n",
    "min_trial_counts = trial_counts.groupby('condition')['trial_count'].min().reset_index()\n",
    "\n",
    "# For each condition, find the neuron_id corresponding to the minimum trial_count\n",
    "#min_trial_neurons = trial_counts.loc[trial_counts.groupby('condition')['trial_count'].idxmin()].reset_index(drop=True)\n",
    "\n",
    "# Merge the two dataframes to get the condition, trial_count, and neuron_id together\n",
    "#result = pd.merge(min_trial_counts, min_trial_neurons, on=['condition', 'trial_count'], suffixes=('', '_min'))\n",
    "\n",
    "# Select only the relevant columns\n",
    "min_trial_counts = min_trial_counts[['condition', 'trial_count']]\n",
    "\n",
    "print(min_trial_counts)"
   ]
  },
  {
   "cell_type": "code",
   "execution_count": 11,
   "id": "a430858d",
   "metadata": {},
   "outputs": [
    {
     "name": "stdout",
     "output_type": "stream",
     "text": [
      "   condition  cell_specimen_id  trial_count\n",
      "0          1        1086498976          122\n",
      "1          2        1086562780          150\n",
      "2          3        1086490603           82\n",
      "3          4        1086490603          146\n"
     ]
    }
   ],
   "source": [
    "#ALTERNATIVE OPTION\n",
    "# Sort the dataframe by 'condition' and 'trial_count' - in case we did not want the minimum but another benchmark\n",
    "sorted_trial_counts = trial_counts.sort_values(by=['condition', 'trial_count'])\n",
    "\n",
    "# Group by 'condition' and take the nth smallest 'trial_count'\n",
    "second_trial_counts = sorted_trial_counts.groupby('condition').nth(0).reset_index()\n",
    "\n",
    "print(second_trial_counts)"
   ]
  },
  {
   "cell_type": "markdown",
   "id": "01508051",
   "metadata": {},
   "source": [
    "Now we need to get all neurons to have the same number of trials per condition. "
   ]
  },
  {
   "cell_type": "code",
   "execution_count": 12,
   "id": "9bac2530",
   "metadata": {},
   "outputs": [
    {
     "data": {
      "text/plain": [
       "condition\n",
       "1    122\n",
       "2    150\n",
       "3     82\n",
       "4    146\n",
       "Name: trial_count, dtype: int64"
      ]
     },
     "execution_count": 12,
     "metadata": {},
     "output_type": "execute_result"
    }
   ],
   "source": [
    "#CALCULATE MIN TRIALS\n",
    "# Calculate the minimum number of trials for each condition\n",
    "min_trials_per_condition = trial_counts.groupby('condition')['trial_count'].min()\n",
    "min_trials_per_condition"
   ]
  },
  {
   "cell_type": "code",
   "execution_count": 13,
   "id": "ed046125",
   "metadata": {},
   "outputs": [
    {
     "name": "stdout",
     "output_type": "stream",
     "text": [
      "{1: 122, 2: 150, 3: 82, 4: 146}\n"
     ]
    }
   ],
   "source": [
    "#MIN_TRIALS DICTIONARY\n",
    "# Convert min_trials_df to a dictionary for quick lookup\n",
    "min_trials_dict = min_trials_per_condition.to_dict()\n",
    "print(min_trials_dict)"
   ]
  },
  {
   "cell_type": "code",
   "execution_count": 14,
   "id": "d5d9399b",
   "metadata": {},
   "outputs": [],
   "source": [
    "# Function to sample trials\n",
    "def sample_trials(group, min_trials_dict, random_seed=42):\n",
    "    condition = group['condition'].iloc[0]  # Extract condition from group\n",
    "    min_trials = min_trials_dict.get(condition, None)  # Get minimum trials for the condition\n",
    "    if min_trials is not None and len(group) > min_trials:\n",
    "        return group.sample(min_trials, random_state=random_seed)\n",
    "    return group\n"
   ]
  },
  {
   "cell_type": "code",
   "execution_count": 15,
   "id": "eeb8dd46",
   "metadata": {},
   "outputs": [],
   "source": [
    "# Group by 'cell_id' and 'condition', then sample trials to match the minimum\n",
    "balanced_df = (\n",
    "    filtered_data.groupby(['cell_specimen_id', 'condition'], group_keys=False)\n",
    "    .apply(lambda x: sample_trials(x, min_trials_dict))\n",
    ")\n",
    "\n",
    "#print(balanced_df)"
   ]
  },
  {
   "cell_type": "code",
   "execution_count": 16,
   "id": "c593e799",
   "metadata": {},
   "outputs": [
    {
     "name": "stdout",
     "output_type": "stream",
     "text": [
      "{1: 122, 2: 150, 3: 82, 4: 146}\n",
      "     cell_specimen_id  condition  trial_count\n",
      "0          1086489847          1          122\n",
      "1          1086489847          2          150\n",
      "2          1086489847          3           82\n",
      "3          1086489847          4          146\n",
      "4          1086489860          1          122\n",
      "..                ...        ...          ...\n",
      "383        1086567017          4          146\n",
      "384        1086567589          1          122\n",
      "385        1086567589          2          150\n",
      "386        1086567589          3           82\n",
      "387        1086567589          4          146\n",
      "\n",
      "[388 rows x 3 columns]\n"
     ]
    }
   ],
   "source": [
    "#CHECKS WHETHER THINGS WORKED\n",
    "#how many trials of each type per neuron? -> calculate length of each condition for each neuron\n",
    "# Group by cell_id and 'condition', then count the number of occurrences\n",
    "print(min_trials_dict)\n",
    "trial_counts2 = balanced_df.groupby(['cell_specimen_id', 'condition']).size().reset_index(name='trial_count')\n",
    "\n",
    "print(trial_counts2)"
   ]
  },
  {
   "cell_type": "code",
   "execution_count": 17,
   "id": "2f4209c1",
   "metadata": {},
   "outputs": [
    {
     "data": {
      "text/plain": [
       "array([[<AxesSubplot:title={'center':'1'}>,\n",
       "        <AxesSubplot:title={'center':'2'}>],\n",
       "       [<AxesSubplot:title={'center':'3'}>,\n",
       "        <AxesSubplot:title={'center':'4'}>]], dtype=object)"
      ]
     },
     "execution_count": 17,
     "metadata": {},
     "output_type": "execute_result"
    },
    {
     "data": {
      "image/png": "[encoded data removed]",
      "text/plain": [
       "<Figure size 432x288 with 4 Axes>"
      ]
     },
     "metadata": {
      "needs_background": "light"
     },
     "output_type": "display_data"
    }
   ],
   "source": [
    "trial_counts2.hist(column='trial_count', by=\"condition\")"
   ]
  },
  {
   "cell_type": "code",
   "execution_count": 18,
   "id": "e7972b3b",
   "metadata": {},
   "outputs": [
    {
     "name": "stdout",
     "output_type": "stream",
     "text": [
      "All neurons have the same number of trials per condition:\n",
      "condition\n",
      "1    True\n",
      "2    True\n",
      "3    True\n",
      "4    True\n",
      "Name: trial_count, dtype: bool\n"
     ]
    }
   ],
   "source": [
    "# Check if all neurons have the minimum number of trials per condition\n",
    "correct_counts = trial_counts2.groupby('condition')['trial_count'].nunique() == 1\n",
    "\n",
    "print(\"All neurons have the same number of trials per condition:\")\n",
    "print(correct_counts)"
   ]
  },
  {
   "cell_type": "code",
   "execution_count": null,
   "id": "2152942a",
   "metadata": {},
   "outputs": [],
   "source": []
  }
 ],
 "metadata": {
  "kernelspec": {
   "display_name": "Python 3",
   "language": "python",
   "name": "python3"
  },
  "language_info": {
   "codemirror_mode": {
    "name": "ipython",
    "version": 3
   },
   "file_extension": ".py",
   "mimetype": "text/x-python",
   "name": "python",
   "nbconvert_exporter": "python",
   "pygments_lexer": "ipython3",
   "version": "3.8.8"
  }
 },
 "nbformat": 4,
 "nbformat_minor": 5
}
