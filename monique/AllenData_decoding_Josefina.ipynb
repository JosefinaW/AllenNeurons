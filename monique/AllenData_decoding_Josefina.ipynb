{
 "cells": [
  {
   "cell_type": "markdown",
   "id": "f72fe479",
   "metadata": {
    "execution": {},
    "id": "kErhFWLMdlMn"
   },
   "source": [
    "# Loading the data"
   ]
  },
  {
   "cell_type": "code",
   "execution_count": 19,
   "id": "726a746e",
   "metadata": {
    "cellView": "form",
    "colab": {
     "base_uri": "https://localhost:8080/"
    },
    "id": "ZVphVsUJdlMo",
    "outputId": "edc88892-7a81-4adc-8b8e-f007e94ee7d7"
   },
   "outputs": [],
   "source": [
    "# @title Install dependencies\n",
    "\n",
    "# !pip install pandas --quiet\n",
    "# !pip install seaborn --quiet\n",
    "# !pip install  pyarrow # may be needed to read data file"
   ]
  },
  {
   "cell_type": "code",
   "execution_count": 20,
   "id": "f5b9eb8a",
   "metadata": {
    "id": "arDpXV4udlMo"
   },
   "outputs": [],
   "source": [
    "# Imports\n",
    "import numpy as np\n",
    "import pandas as pd\n",
    "import matplotlib.pyplot as plt\n",
    "import seaborn as sns\n",
    "sns.set_context('notebook', font_scale=1.5, rc={'lines.markeredgewidth': 2})\n",
    "\n",
    "from sklearn.model_selection import train_test_split\n",
    "from sklearn.preprocessing import StandardScaler\n",
    "from sklearn.linear_model import LogisticRegressionCV\n",
    "from sklearn.pipeline import make_pipeline\n",
    "# from sklearn.decomposition import PCA             # just if needed\n",
    "# from sklearn.model_selection import GridSearchCV\n",
    "# from sklearn.linear_model import Ridge"
   ]
  },
  {
   "cell_type": "markdown",
   "id": "3cbbdceb",
   "metadata": {
    "execution": {},
    "id": "kGjr9frfdlMp"
   },
   "source": [
    "## For this example, we have pre-computed event triggered responses and saved them to figshare.\n",
    "#### To access the full dataset, see `Allen_neuromatch_example_2.ipynb`, or go to the links at the bottom of this notebook\n",
    "###This cell will download the responses."
   ]
  },
  {
   "cell_type": "code",
   "execution_count": 21,
   "id": "0835815f",
   "metadata": {
    "id": "2ixF9-hmdlMq"
   },
   "outputs": [],
   "source": [
    "# @title Data retrieval\n",
    "import os, requests\n",
    "\n",
    "fname = \"allen_visual_behavior_2p_change_detection_familiar_novel_image_sets.parquet\"\n",
    "url = \"https://ndownloader.figshare.com/files/28470255\"\n",
    "\n",
    "if not os.path.isfile(fname):\n",
    "  try:\n",
    "    r = requests.get(url)\n",
    "  except requests.ConnectionError:\n",
    "    print(\"!!! Failed to download data !!!\")\n",
    "  else:\n",
    "    if r.status_code != requests.codes.ok:\n",
    "      print(\"!!! Failed to download data !!!\")\n",
    "    else:\n",
    "      with open(fname, \"wb\") as fid:\n",
    "        fid.write(r.content)"
   ]
  },
  {
   "cell_type": "markdown",
   "id": "fd693727",
   "metadata": {
    "execution": {},
    "id": "gqgmeSQCdlMq"
   },
   "source": [
    "### Then we open it using the pandas `read_parquet` method\n"
   ]
  },
  {
   "cell_type": "markdown",
   "id": "3d0cb99d",
   "metadata": {
    "execution": {},
    "id": "_ZtUKFBMdlMq"
   },
   "source": [
    "(parquet is just another file format)"
   ]
  },
  {
   "cell_type": "code",
   "execution_count": 22,
   "id": "01050efd",
   "metadata": {
    "id": "fKQ1V7JAdlMq"
   },
   "outputs": [],
   "source": [
    "filename = \"allen_visual_behavior_2p_change_detection_familiar_novel_image_sets.parquet\"\n",
    "data = pd.read_parquet(filename)"
   ]
  },
  {
   "cell_type": "markdown",
   "id": "986d9122",
   "metadata": {},
   "source": [
    "# DATA_ PROCESSING: Start here after loading data"
   ]
  },
  {
   "cell_type": "code",
   "execution_count": 23,
   "id": "2d81b10b",
   "metadata": {},
   "outputs": [],
   "source": [
    "#THIS IS WHERE THE FUN STARTS\n",
    "# Define a function to map combinations to numbers 1-4\n",
    "def map_conditions(row):\n",
    "    if row['exposure_level'] == \"familiar\" and row['is_change'] == True:\n",
    "        return 1\n",
    "    elif row['exposure_level'] == \"familiar\" and row['is_change'] == False:\n",
    "        return 2\n",
    "    elif row['exposure_level'] == \"novel\" and row['is_change'] == True:\n",
    "        return 3\n",
    "    elif row['exposure_level'] == \"novel\" and row['is_change'] == False:\n",
    "        return 4\n",
    "\n",
    "\n",
    "# Apply the function to create the new column\n",
    "#filtered_df['condition'] = filtered_df.apply(map_conditions, axis=1)\n",
    "\n",
    "#print(filtered_df.shape)"
   ]
  },
  {
   "cell_type": "code",
   "execution_count": 24,
   "id": "f2e2a23c",
   "metadata": {},
   "outputs": [],
   "source": [
    "data['condition'] = data.apply(map_conditions, axis=1)"
   ]
  },
  {
   "cell_type": "code",
   "execution_count": 25,
   "id": "6c6a0ee7",
   "metadata": {},
   "outputs": [],
   "source": [
    "def restrict_neurons_with_all_conditions(df):\n",
    "    # Group by neuron and find unique conditions for each neuron\n",
    "    neuron_conditions = df.groupby('cell_specimen_id')['condition'].unique()\n",
    "    # filtering only neurons that have trials in all 4 conditions\n",
    "    neurons_with_all_conditions = neuron_conditions[\n",
    "        neuron_conditions.apply(lambda x: {1, 2, 3, 4}.issubset(x))\n",
    "    ].index\n",
    "    # Filter the data for those neurons\n",
    "    filtered_d = df[df['cell_specimen_id'].isin(neurons_with_all_conditions)]\n",
    "    return filtered_d\n",
    "filtered_data = restrict_neurons_with_all_conditions(data)"
   ]
  },
  {
   "cell_type": "code",
   "execution_count": 26,
   "id": "8a3652ff",
   "metadata": {},
   "outputs": [
    {
     "name": "stdout",
     "output_type": "stream",
     "text": [
      "Verification result: True\n"
     ]
    }
   ],
   "source": [
    "def verify_filtered_data(df):\n",
    "    condition_counts = df.groupby('cell_specimen_id')['condition'].nunique()\n",
    "    return (condition_counts == 4).all()\n",
    "print(f\"Verification result: {verify_filtered_data(filtered_data)}\")"
   ]
  },
  {
   "cell_type": "code",
   "execution_count": 27,
   "id": "1bd7155c",
   "metadata": {},
   "outputs": [
    {
     "name": "stdout",
     "output_type": "stream",
     "text": [
      "     cell_specimen_id  condition  trial_count\n",
      "0          1086489847          1          204\n",
      "1          1086489847          2          190\n",
      "2          1086489847          3          218\n",
      "3          1086489847          4          217\n",
      "4          1086489860          1          204\n",
      "..                ...        ...          ...\n",
      "383        1086567017          4          184\n",
      "384        1086567589          1          512\n",
      "385        1086567589          2          328\n",
      "386        1086567589          3          352\n",
      "387        1086567589          4          184\n",
      "\n",
      "[388 rows x 3 columns]\n"
     ]
    }
   ],
   "source": [
    "#how many trials of each type per neuron? -> calculate length of each condition for each neuron - creating the trial counts variable\n",
    "# Group by cell_id and 'condition', then count the number of occurrences\n",
    "trial_counts = filtered_data.groupby(['cell_specimen_id', 'condition']).size().reset_index(name='trial_count')\n",
    "\n",
    "print(trial_counts)\n"
   ]
  },
  {
   "cell_type": "code",
   "execution_count": 28,
   "id": "5175acfb",
   "metadata": {},
   "outputs": [
    {
     "name": "stdout",
     "output_type": "stream",
     "text": [
      "   condition  trial_count\n",
      "0          1          122\n",
      "1          2          150\n",
      "2          3           82\n",
      "3          4          146\n"
     ]
    }
   ],
   "source": [
    "# Group by 'condition' and find the minimum 'trial_count' for each condition\n",
    "min_trial_counts = trial_counts.groupby('condition')['trial_count'].min().reset_index()\n",
    "\n",
    "# For each condition, find the neuron_id corresponding to the minimum trial_count\n",
    "#min_trial_neurons = trial_counts.loc[trial_counts.groupby('condition')['trial_count'].idxmin()].reset_index(drop=True)\n",
    "\n",
    "# Merge the two dataframes to get the condition, trial_count, and neuron_id together\n",
    "#result = pd.merge(min_trial_counts, min_trial_neurons, on=['condition', 'trial_count'], suffixes=('', '_min'))\n",
    "\n",
    "# Select only the relevant columns\n",
    "min_trial_counts = min_trial_counts[['condition', 'trial_count']]\n",
    "\n",
    "print(min_trial_counts)"
   ]
  },
  {
   "cell_type": "code",
   "execution_count": 29,
   "id": "a430858d",
   "metadata": {},
   "outputs": [
    {
     "name": "stdout",
     "output_type": "stream",
     "text": [
      "   condition  cell_specimen_id  trial_count\n",
      "0          1        1086498976          122\n",
      "1          2        1086562780          150\n",
      "2          3        1086490603           82\n",
      "3          4        1086490603          146\n"
     ]
    }
   ],
   "source": [
    "#ALTERNATIVE OPTION\n",
    "# Sort the dataframe by 'condition' and 'trial_count' - in case we did not want the minimum but another benchmark\n",
    "sorted_trial_counts = trial_counts.sort_values(by=['condition', 'trial_count'])\n",
    "\n",
    "# Group by 'condition' and take the nth smallest 'trial_count'\n",
    "second_trial_counts = sorted_trial_counts.groupby('condition').nth(0).reset_index()\n",
    "\n",
    "print(second_trial_counts)"
   ]
  },
  {
   "cell_type": "markdown",
   "id": "01508051",
   "metadata": {},
   "source": [
    "Now we need to get all neurons to have the same number of trials per condition. "
   ]
  },
  {
   "cell_type": "code",
   "execution_count": 30,
   "id": "9bac2530",
   "metadata": {},
   "outputs": [
    {
     "data": {
      "text/plain": [
       "condition\n",
       "1    122\n",
       "2    150\n",
       "3     82\n",
       "4    146\n",
       "Name: trial_count, dtype: int64"
      ]
     },
     "execution_count": 30,
     "metadata": {},
     "output_type": "execute_result"
    }
   ],
   "source": [
    "#CALCULATE MIN TRIALS\n",
    "# Calculate the minimum number of trials for each condition\n",
    "min_trials_per_condition = trial_counts.groupby('condition')['trial_count'].min()\n",
    "min_trials_per_condition"
   ]
  },
  {
   "cell_type": "code",
   "execution_count": 31,
   "id": "ed046125",
   "metadata": {},
   "outputs": [
    {
     "name": "stdout",
     "output_type": "stream",
     "text": [
      "{1: 122, 2: 150, 3: 82, 4: 146}\n"
     ]
    }
   ],
   "source": [
    "#MIN_TRIALS DICTIONARY\n",
    "# Convert min_trials_df to a dictionary for quick lookup\n",
    "min_trials_dict = min_trials_per_condition.to_dict()\n",
    "print(min_trials_dict)"
   ]
  },
  {
   "cell_type": "code",
   "execution_count": 32,
   "id": "d5d9399b",
   "metadata": {},
   "outputs": [],
   "source": [
    "# Function to sample trials\n",
    "def sample_trials(group, min_trials_dict, random_seed=42):\n",
    "    condition = group['condition'].iloc[0]  # Extract condition from group\n",
    "    min_trials = min_trials_dict.get(condition, None)  # Get minimum trials for the condition\n",
    "    if min_trials is not None and len(group) > min_trials:\n",
    "        return group.sample(min_trials, random_state=random_seed)\n",
    "    return group\n",
    "    "
   ]
  },
  {
   "cell_type": "code",
   "execution_count": 40,
   "id": "eeb8dd46",
   "metadata": {},
   "outputs": [],
   "source": [
    "# Group by 'cell_id' and 'condition', then sample trials to match the minimum\n",
    "balanced_df = (\n",
    "    filtered_data.groupby(['cell_specimen_id', 'condition'], group_keys=False)\n",
    "    .apply(lambda x: sample_trials(x, min_trials_dict))\n",
    ")\n",
    "\n",
    "#print(balanced_df)"
   ]
  },
  {
   "cell_type": "code",
   "execution_count": 41,
   "id": "c593e799",
   "metadata": {},
   "outputs": [
    {
     "name": "stdout",
     "output_type": "stream",
     "text": [
      "{1: 122, 2: 150, 3: 82, 4: 146}\n",
      "     cell_specimen_id  condition  trial_count\n",
      "0          1086489847          1          122\n",
      "1          1086489847          2          150\n",
      "2          1086489847          3           82\n",
      "3          1086489847          4          146\n",
      "4          1086489860          1          122\n",
      "..                ...        ...          ...\n",
      "383        1086567017          4          146\n",
      "384        1086567589          1          122\n",
      "385        1086567589          2          150\n",
      "386        1086567589          3           82\n",
      "387        1086567589          4          146\n",
      "\n",
      "[388 rows x 3 columns]\n"
     ]
    }
   ],
   "source": [
    "#CHECKS WHETHER THINGS WORKED\n",
    "#how many trials of each type per neuron? -> calculate length of each condition for each neuron\n",
    "# Group by cell_id and 'condition', then count the number of occurrences\n",
    "print(min_trials_dict)\n",
    "trial_counts_balanced = balanced_df.groupby(['cell_specimen_id', 'condition']).size().reset_index(name='trial_count')\n",
    "\n",
    "print(trial_counts_balanced) # ToDo: trial_counts_balanced"
   ]
  },
  {
   "cell_type": "code",
   "execution_count": 43,
   "id": "2f4209c1",
   "metadata": {},
   "outputs": [
    {
     "data": {
      "text/plain": [
       "array([[<Axes: title={'center': '1'}>, <Axes: title={'center': '2'}>],\n",
       "       [<Axes: title={'center': '3'}>, <Axes: title={'center': '4'}>]],\n",
       "      dtype=object)"
      ]
     },
     "execution_count": 43,
     "metadata": {},
     "output_type": "execute_result"
    },
    {
     "data": {
      "image/png": "[encoded data removed]",
      "text/plain": [
       "<Figure size 640x480 with 4 Axes>"
      ]
     },
     "metadata": {},
     "output_type": "display_data"
    }
   ],
   "source": [
    "trial_counts_balanced.hist(column='trial_count', by=\"condition\")"
   ]
  },
  {
   "cell_type": "code",
   "execution_count": 44,
   "id": "e7972b3b",
   "metadata": {},
   "outputs": [
    {
     "name": "stdout",
     "output_type": "stream",
     "text": [
      "All neurons have the same number of trials per condition:\n",
      "condition\n",
      "1    True\n",
      "2    True\n",
      "3    True\n",
      "4    True\n",
      "Name: trial_count, dtype: bool\n"
     ]
    }
   ],
   "source": [
    "# Check if all neurons have the minimum number of trials per condition\n",
    "correct_counts = trial_counts_balanced.groupby('condition')['trial_count'].nunique() == 1\n",
    "\n",
    "print(\"All neurons have the same number of trials per condition:\")\n",
    "print(correct_counts)"
   ]
  },
  {
   "cell_type": "code",
   "execution_count": 45,
   "id": "2152942a",
   "metadata": {},
   "outputs": [],
   "source": [
    "### Detect outliers ###\n",
    "# TODO\n",
    "#outliers = []\n",
    "#data_traces = data_subset.trace.values\n",
    "#for i in range(len(data_subset)):\n",
    "#    outliers.append((data_traces[i]<1).all())\n",
    "#data_subset_rmo = data_subset[outliers]"
   ]
  },
  {
   "cell_type": "code",
   "execution_count": 39,
   "id": "caaff6d1-595b-4165-a0db-df2feee9aef0",
   "metadata": {},
   "outputs": [
    {
     "data": {
      "text/html": [
       "<div>\n",
       "<style scoped>\n",
       "    .dataframe tbody tr th:only-of-type {\n",
       "        vertical-align: middle;\n",
       "    }\n",
       "\n",
       "    .dataframe tbody tr th {\n",
       "        vertical-align: top;\n",
       "    }\n",
       "\n",
       "    .dataframe thead th {\n",
       "        text-align: right;\n",
       "    }\n",
       "</style>\n",
       "<table border=\"1\" class=\"dataframe\">\n",
       "  <thead>\n",
       "    <tr style=\"text-align: right;\">\n",
       "      <th></th>\n",
       "      <th>cell_specimen_id</th>\n",
       "      <th>condition</th>\n",
       "      <th>trial_count</th>\n",
       "    </tr>\n",
       "  </thead>\n",
       "  <tbody>\n",
       "    <tr>\n",
       "      <th>0</th>\n",
       "      <td>1086489847</td>\n",
       "      <td>1</td>\n",
       "      <td>122</td>\n",
       "    </tr>\n",
       "    <tr>\n",
       "      <th>1</th>\n",
       "      <td>1086489847</td>\n",
       "      <td>2</td>\n",
       "      <td>150</td>\n",
       "    </tr>\n",
       "    <tr>\n",
       "      <th>2</th>\n",
       "      <td>1086489847</td>\n",
       "      <td>3</td>\n",
       "      <td>82</td>\n",
       "    </tr>\n",
       "    <tr>\n",
       "      <th>3</th>\n",
       "      <td>1086489847</td>\n",
       "      <td>4</td>\n",
       "      <td>146</td>\n",
       "    </tr>\n",
       "    <tr>\n",
       "      <th>4</th>\n",
       "      <td>1086489860</td>\n",
       "      <td>1</td>\n",
       "      <td>122</td>\n",
       "    </tr>\n",
       "  </tbody>\n",
       "</table>\n",
       "</div>"
      ],
      "text/plain": [
       "   cell_specimen_id  condition  trial_count\n",
       "0        1086489847          1          122\n",
       "1        1086489847          2          150\n",
       "2        1086489847          3           82\n",
       "3        1086489847          4          146\n",
       "4        1086489860          1          122"
      ]
     },
     "execution_count": 39,
     "metadata": {},
     "output_type": "execute_result"
    }
   ],
   "source": [
    "trial_counts_balanced.head()"
   ]
  },
  {
   "cell_type": "code",
   "execution_count": 57,
   "id": "b0c98e0b-c119-47fc-9a72-cfa24930ad5c",
   "metadata": {},
   "outputs": [
    {
     "data": {
      "text/html": [
       "<div>\n",
       "<style scoped>\n",
       "    .dataframe tbody tr th:only-of-type {\n",
       "        vertical-align: middle;\n",
       "    }\n",
       "\n",
       "    .dataframe tbody tr th {\n",
       "        vertical-align: top;\n",
       "    }\n",
       "\n",
       "    .dataframe thead th {\n",
       "        text-align: right;\n",
       "    }\n",
       "</style>\n",
       "<table border=\"1\" class=\"dataframe\">\n",
       "  <thead>\n",
       "    <tr style=\"text-align: right;\">\n",
       "      <th></th>\n",
       "      <th>trace</th>\n",
       "      <th>condition</th>\n",
       "    </tr>\n",
       "  </thead>\n",
       "  <tbody>\n",
       "    <tr>\n",
       "      <th>104523</th>\n",
       "      <td>[0.17610223591327667, 0.1075032502412796, 0.28...</td>\n",
       "      <td>2</td>\n",
       "    </tr>\n",
       "    <tr>\n",
       "      <th>1270427</th>\n",
       "      <td>[-0.09896284341812134, 0.06752821803092957, -0...</td>\n",
       "      <td>1</td>\n",
       "    </tr>\n",
       "    <tr>\n",
       "      <th>1669427</th>\n",
       "      <td>[-0.006669150199741125, -0.06207539141178131, ...</td>\n",
       "      <td>3</td>\n",
       "    </tr>\n",
       "    <tr>\n",
       "      <th>1559591</th>\n",
       "      <td>[0.24728597700595856, 0.23400387167930603, 0.2...</td>\n",
       "      <td>2</td>\n",
       "    </tr>\n",
       "    <tr>\n",
       "      <th>523341</th>\n",
       "      <td>[-0.014786978252232075, 0.04161570593714714, 0...</td>\n",
       "      <td>2</td>\n",
       "    </tr>\n",
       "    <tr>\n",
       "      <th>969823</th>\n",
       "      <td>[-0.00782690104097128, 0.06935980916023254, -0...</td>\n",
       "      <td>4</td>\n",
       "    </tr>\n",
       "    <tr>\n",
       "      <th>353277</th>\n",
       "      <td>[-0.008524744771420956, 0.04017982631921768, 0...</td>\n",
       "      <td>2</td>\n",
       "    </tr>\n",
       "    <tr>\n",
       "      <th>886074</th>\n",
       "      <td>[-0.12369208037853241, 0.02164766564965248, -0...</td>\n",
       "      <td>2</td>\n",
       "    </tr>\n",
       "    <tr>\n",
       "      <th>1426076</th>\n",
       "      <td>[0.009964363649487495, 0.005303954239934683, -...</td>\n",
       "      <td>4</td>\n",
       "    </tr>\n",
       "    <tr>\n",
       "      <th>1348813</th>\n",
       "      <td>[0.13012681901454926, -0.026859629899263382, 0...</td>\n",
       "      <td>1</td>\n",
       "    </tr>\n",
       "  </tbody>\n",
       "</table>\n",
       "</div>"
      ],
      "text/plain": [
       "                                                     trace  condition\n",
       "104523   [0.17610223591327667, 0.1075032502412796, 0.28...          2\n",
       "1270427  [-0.09896284341812134, 0.06752821803092957, -0...          1\n",
       "1669427  [-0.006669150199741125, -0.06207539141178131, ...          3\n",
       "1559591  [0.24728597700595856, 0.23400387167930603, 0.2...          2\n",
       "523341   [-0.014786978252232075, 0.04161570593714714, 0...          2\n",
       "969823   [-0.00782690104097128, 0.06935980916023254, -0...          4\n",
       "353277   [-0.008524744771420956, 0.04017982631921768, 0...          2\n",
       "886074   [-0.12369208037853241, 0.02164766564965248, -0...          2\n",
       "1426076  [0.009964363649487495, 0.005303954239934683, -...          4\n",
       "1348813  [0.13012681901454926, -0.026859629899263382, 0...          1"
      ]
     },
     "execution_count": 57,
     "metadata": {},
     "output_type": "execute_result"
    }
   ],
   "source": [
    "# X | Y\n",
    "balanced_df.loc[:,['trace','condition']].sample(10)\n",
    "# Christine:\n",
    "# for t in range(timepoints): \n",
    "#    X(t) = balanced_df.trace.values[t]\n",
    "\n",
    "\n",
    "# X(idx:neurons, trial_trace, timepoints)\n",
    "balanced_df."
   ]
  },
  {
   "cell_type": "code",
   "execution_count": null,
   "id": "33c14856-a21d-4e76-890b-348a7806dacc",
   "metadata": {},
   "outputs": [],
   "source": [
    "### Split the data into training and test sets ###\n",
    "#clean_data_train, clean_data_test = train_test_split(\n",
    "#    clean_data,\n",
    "#    test_size = 0.3, \n",
    "#    random_state = 0\n",
    "#)"
   ]
  },
  {
   "cell_type": "markdown",
   "id": "bd370c24-0ff3-432c-88a9-f94216a0b5d9",
   "metadata": {},
   "source": [
    "C: \"At the moment, we have:\r",
    "balanced_df where each row is a trial, several trials per neuron are concatenated in rows (neurons can be indexed by column cell_specimen_id), and timepoints-wise trace values are in an array in the column trace.\r",
    "We want:\r",
    "X: a three-dimensional array containing the trace-values where the first dimension are neurons, the second dimension are trials, and the third dimension are timepoints.\"\n",
    "\n",
    "\"So X should be an array of shape (97, 432, 85)\" -> (neurons, time points, )\n",
    "\"I.e. for each neuron balanced_df[balanced_df.cell_specimen_id==cell_id] will give you all of that cell’s trials\""
   ]
  },
  {
   "cell_type": "markdown",
   "id": "d469b29e-dcba-46bf-aa3d-33d3b7d5e63f",
   "metadata": {},
   "source": [
    "N = len(balanced_df.cell_specimen_id.unique())\r",
    "S = sum(min_trial_counts.trial_count)\r",
    "T = len(balanced_df.trace.values[0])\r",
    "X = np.zeros((N,S,T))\r",
    "for n, cell_id in enumerate(balanced_df.cell_specimen_id.unique()):\r",
    "    neuron_data = balanced_df[balanced_df.cell_specimen_id==cell_id]\r",
    "    for s in range(S):\r",
    "        for t in range(T):\r",
    "            X[n,s,t] = neuron_data.trace.values[s][t]"
   ]
  },
  {
   "cell_type": "code",
   "execution_count": null,
   "id": "4467a1b9-d894-4ae0-8a06-c14abe58eafa",
   "metadata": {},
   "outputs": [],
   "source": [
    "### Logistic Regression Models ###\n",
    "\n",
    "# Create a pipeline for Logistic Regression \n",
    "pipe_logistic = make_pipeline([\n",
    "    ('std', StandardScaler()), # 'pca', PCA(n_components = 0.9) # just if needed to reduce noise or improve the prediction(s)\n",
    "    ('logReg', LogisticRegressionCV(random_state = 0, cv = 10)) # 10 fold cross validation\n",
    "   ])\n",
    "\n",
    "# Train one model at each time point and save their prediction accuracy \n",
    "T = balanced_df.shape[2] # TODO: check structure beforehand \n",
    "acc = np.zeros(T)\n",
    "conf_mat = np.zeros((4,4,T))\n",
    "for t in range(T):\n",
    "\n",
    "    ## TODO: Specify x and y for the logistic regression \n",
    "    # This is where we can initialize the data frame for t:\n",
    "    # \n",
    "    # Get current numpy array\n",
    "    # arr = X_train[...]\n",
    "    #\n",
    "    # Convert the numpy array to a pandas DataFrame\n",
    "    #df = pd.DataFrame(arr, columns=['Column1', 'Column2', 'Column3'])\n",
    "    #\n",
    "    # Set 'Column1' as the new index\n",
    "    #df.set_index('Column1', inplace=True)\n",
    "    \n",
    "    \n",
    "    # ...for training\n",
    "    x_train = clean_data_train.loc[t,'columnName']\n",
    "    y_train = clean_data_train.loc[t,'columnName']\n",
    "    # ...for testing\n",
    "    x_pred = clean_data_train.loc[t,'columnName']\n",
    "    y_pred = clean_data_train.loc[t,'columnName']\n",
    "       \n",
    "    # Fit \n",
    "    pipe_logistic.fit(x_train, y_train)\n",
    "\n",
    "    # Predict\n",
    "    y_pred = pipe_logistic.predict(X_test)\n",
    "\n",
    "    # Store accuracy of this prediction\n",
    "    acc[t] = accuracy_score(y_test, y_pred) # = sum(y_pred[t]==y_test)/len(y_test)\n",
    "    conf_mat[:,:,t] = confusion_matrix(y_test, y_pred[t])\n",
    "\n",
    "end "
   ]
  }
 ],
 "metadata": {
  "kernelspec": {
   "display_name": "Python 3 (ipykernel)",
   "language": "python",
   "name": "python3"
  },
  "language_info": {
   "codemirror_mode": {
    "name": "ipython",
    "version": 3
   },
   "file_extension": ".py",
   "mimetype": "text/x-python",
   "name": "python",
   "nbconvert_exporter": "python",
   "pygments_lexer": "ipython3",
   "version": "3.8.19"
  }
 },
 "nbformat": 4,
 "nbformat_minor": 5
}
